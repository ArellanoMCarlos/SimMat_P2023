{
 "cells": [
  {
   "cell_type": "markdown",
   "metadata": {},
   "source": [
    "# Simulación Montecarlo\n",
    "> El método de Montecarlo es un método no determinista o estadístico numérico, usado para aproximar expresiones matemáticas complejas y costosas de evaluar con exactitud. El método se llamó así en referencia al Casino de Montecarlo (Mónaco) por ser “la capital del juego de azar”, al ser la ruleta un generador simple de números aleatorios. El nombre y el desarrollo sistemático de los métodos de Montecarlo datan aproximadamente de 1944 y se mejoraron enormemente con el desarrollo de la computadora.\n",
    "\n",
    "Referencia:\n",
    "- https://es.wikipedia.org/wiki/M%C3%A9todo_de_Montecarlo"
   ]
  },
  {
   "cell_type": "markdown",
   "metadata": {},
   "source": [
    "___\n",
    "## 0. Introducción\n",
    "\n",
    "<img style=\"float: right; margin: 260px 0px 15px 15px;\" src=\"https://upload.wikimedia.org/wikipedia/commons/thumb/5/54/Monte_carlo_method.svg/150px-Monte_carlo_method.svg.png\" width=\"150px\" height=\"50px\" />\n",
    "\n",
    "- Inventado por Stanislaw Ulam y a John von Neumann. Ulam ha explicado cómo se le ocurrió la idea mientras jugaba un solitario durante una enfermedad en 1946. \n",
    "- Advirtió que resulta mucho más simple tener una idea del resultado general del solitario haciendo pruebas múltiples con las cartas y contando las proporciones de los resultados que computar todas las posibilidades de combinación formalmente.\n",
    "- Se le ocurrió que esta misma observación debía aplicarse a su trabajo de Los Álamos sobre difusión de neutrones, para la cual resulta prácticamente imposible solucionar las ecuaciones íntegro-diferenciales que gobiernan la dispersión, la absorción y la fisión.\n",
    "- Dado que ya  empezaban a estar disponibles máquinas de computación para efectuar las pruebas numéricas, el método cobró  mucha fuerza.\n",
    "- El método de Montecarlo proporciona soluciones aproximadas a una gran variedad de problemas matemáticos posibilitando la realización de experimentos con muestreos de números pseudoaleatorios en una computadora. El método es aplicable a cualquier tipo de problema, ya sea estocástico o determinista. \n",
    "- El método de Montecarlo tiene un error absoluto de la estimación que decrece como $\\frac{1}{\\sqrt{N}}$ en virtud del teorema del límite central.\n",
    "\n",
    "### Ejemplo 1\n",
    "Todos alguna vez hemos aplicado el método Montecarlo (inconscientemente). Como ejemplo, consideremos el juego de Astucia Naval.\n",
    "\n",
    "Normalmente, primero se realizan una serie de tiros a puntos aleatorios. Una vez se impacta en un barco, se puede utilizar un algoritmo determinista para identificar la posición del barco y así terminar de derrumbarlo.\n",
    "\n",
    "### Ejemplo 2\n",
    "Los programas de diseño asistido por ordenador (CAD) pueden determinar rápidamente el volumen de modelos muy complejos. Estos modelos, en general, no tienen una expresión analítica para determinar su volumen y la única solución es dividir el modelo en un conjunto de pequeños submodelos cuyo volumen pueda determinarse (por ejemplo, dividir el modelo en miles de tetraedros). Sin embargo, esto consume muchos recursos. Por ello utilizan métodos de Montecarlo, más robustos y eficientes.\n",
    "\n",
    "Como el software sí que conoce la expresión analítica de la geometría del modelo (posición de los nodos, aristas y superficies) puede determinar si un punto está dentro del modelo o está fuera con un coste mucho menor que el de determinar un volumen.\n",
    "\n",
    "   + En primer lugar el software coloca el modelo dentro de un volumen conocido (por ejemplo, dentro de un cubo de $1 m^3$ de volumen).\n",
    "\n",
    "   + A continuación, genera un punto aleatorio del interior del volumen conocido, y registra si el punto \"ha caído\" dentro o fuera del modelo. Esto se repite un gran número de veces (miles o millones), consiguiendo un registro muy grande de cuántos puntos han quedado dentro y cuántos fuera.\n",
    "\n",
    "   + Como la probabilidad de que caiga dentro es proporcional al volumen del modelo, la proporción de puntos que han caído dentro con respecto al total de puntos generados es la misma proporción de volumen que ocupa el modelo dentro del cubo de $1 m^3$.\n",
    "\n",
    "Si el $50\\%$ de los puntos han caído dentro, el modelo ocupa el $50\\%$ el volumen total, es decir, $0.5  m^3$. Evidentemente, cuantos más puntos genere el software, menor será el error de la estimación del volumen. "
   ]
  },
  {
   "cell_type": "markdown",
   "metadata": {},
   "source": [
    "## 1. Generación de números pseudoaleatorios\n",
    "\n",
    "<img style=\"float: center; margin: 0px 0px 15px 15px;\" src=\"https://upload.wikimedia.org/wikipedia/commons/6/6a/Dice.jpg\" width=\"300px\" height=\"100px\" />\n",
    "\n",
    "**Referencias de la clase:**\n",
    "- https://webs.um.es/mpulido/miwiki/lib/exe/fetch.php?id=amio&cache=cache&media=wiki:simt1b.pdf\n",
    "- http://www.lmpt.univ-tours.fr/~nicolis/Licence_NEW/08-09/boxmuller.pdf\n",
    "\n",
    "**Referencias de las librerías que usaremos:**\n",
    "- http://www.numpy.org/\n",
    "- https://matplotlib.org/"
   ]
  },
  {
   "cell_type": "markdown",
   "metadata": {},
   "source": [
    "___\n",
    "### 1.1. Introducción\n",
    "\n",
    "- Los números aleatorios son la base esencial de la simulación de escenarios.\n",
    "- Toda la aleatoriedad involucrada en el modelo se obtiene a partir de un generador de números aleatorios que produce una sucesión de valores que supuestamente son realizaciones de una secuencia de variables aleatorias independientes e idénticamente distribuidas."
   ]
  },
  {
   "cell_type": "markdown",
   "metadata": {},
   "source": [
    "###  ¿Qué es un número pseudoaleatorio?\n",
    "\n",
    "<img style=\"float: right; margin: 0px 0px 15px 15px;\" src=\"http://www.publicdomainpictures.net/pictures/50000/velka/random-numbers.jpg\" width=\"300px\" height=\"100px\" />\n",
    "\n",
    "- Es un número generado en un proceso que parece producir números al azar, pero no lo hace realmente.\n",
    "- Las secuencias de números pseudoaleatorios no muestran ningún patrón o regularidad aparente desde un punto de vista estadístico, a pesar de haber sido generadas por un algoritmo completamente determinista, en el que las mismas condiciones iniciales producen siempre el mismo resultado.\n",
    "- Por lo general, el interés no radica en generar un solo número aleatorio, sino muchos, reunidos en lo que se conoce como secuencia aleatoria.\n",
    "\n",
    "###  ¿En qué se aplican?\n",
    "\n",
    "- Modelado y simulación por computadora, estadística, diseño experimental. Normalmente, la entropía (aletoriedad) de los números que se generan actualmente basta para estas aplicaciones.\n",
    "- Criptografía. Este campo sigue estando en constante investigación, y por tanto la generación de números aleatorios también.\n",
    "- Asimismo, también destacan su uso en el llamado método de Montecarlo, con múltiples utilidades.\n",
    "- Entre otros...\n",
    "\n",
    "###  Funcionamiento básico\n",
    "\n",
    "- Elegir una semilla inicial (condición inicial) $x_0$.\n",
    "- Generar una sucesión de valores $x_n$ mediante la relación de recurrencia $x_n=T(x_{n-1})$.\n",
    "\n",
    "> Generalmente, esta secuencia es de números pseudoaleatorios $\\mathcal{U}(0,1)$.\n",
    "\n",
    "- Finalmente, se genera un número pseudoaleatorio con distribución deseada, definido a través de alguna relación $u_n=g(x_n)$.\n",
    "- Estas sucesiones son periódicas. Es decir, en algún momento ocurrirá que $x_j = x_i$ para algún $j > i$.\n",
    "\n",
    "###  ¿Cuándo un generador de números pseudoaleatorios es bueno?\n",
    "\n",
    "- La sucesión de valores que proporcione deberı́a asemejarse a una sucesión de realizaciones independientes de una variable aleatoria $\\mathcal{U}(0, 1)$.\n",
    "- Los resultados deben ser reproducibles, en el sentido de que comenzando con la misma semilla inicial, debe ser capaz de reproducir la misma sucesión. Esto para poder probar diferentes alrternativas bajo las mismas condiciones y/o poder depurar fallos en el modelo.\n",
    "- La sucesión de valores generados debe tener un periodo no repetitivo tan largo como sea posible."
   ]
  },
  {
   "cell_type": "markdown",
   "metadata": {},
   "source": [
    "___\n",
    "## 1.2 Métodos congruenciales para generación de números pseudoaleatorios $\\mathcal{U}(0,1)$\n",
    "\n",
    "- Introducidos por Lehmer en 1951.\n",
    "- Son los principales generadores de números pseudoaleatorios utilizados hoy en día.\n",
    "\n",
    "### Descripción general del método\n",
    "\n",
    "- Comienza con un valor inicial (semilla) $x_0$, y los valores subsiguientes, $x_n$ para $n \\geq 1$, se obtienen recursivamente con la siguiente fórmula:\n",
    "$$x_n = (ax_{n−1} + b) \\mod m.$$\n",
    "- En la fórmula de arriba $\\text{mod}$ representa la operación residuo.\n",
    "- Los enteros positivos $m$, $a$ y $b$ en la fórmula se denominan:\n",
    " - $0<m$ es el módulo,\n",
    " - $0<a<m$ es el multiplicador, y\n",
    " - $0\\leq b <m$ es el incremento.\n",
    " - La semilla debe satisfacer $0\\leq x_0<m$.\n",
    "- Si $b = 0$, el generador se denomina multiplicativo.\n",
    "- En caso contrario se llama mixto."
   ]
  },
  {
   "cell_type": "markdown",
   "metadata": {},
   "source": [
    "**Ejemplo**\n",
    "\n",
    "Para tomar intuición con este método, probar a mano con los siguientes conjuntos de parámetros:\n",
    "1. $m=9$, $a=5$, $b=1$, $x_0=1$."
   ]
  },
  {
   "cell_type": "code",
   "execution_count": 1,
   "metadata": {},
   "outputs": [
    {
     "data": {
      "text/plain": [
       "2.5"
      ]
     },
     "execution_count": 1,
     "metadata": {},
     "output_type": "execute_result"
    }
   ],
   "source": [
    "# Operador módulo\n",
    "# \n",
    "5/2 # División"
   ]
  },
  {
   "cell_type": "code",
   "execution_count": 2,
   "metadata": {},
   "outputs": [
    {
     "data": {
      "text/plain": [
       "2"
      ]
     },
     "execution_count": 2,
     "metadata": {},
     "output_type": "execute_result"
    }
   ],
   "source": [
    "5//2 # División entera"
   ]
  },
  {
   "cell_type": "code",
   "execution_count": 3,
   "metadata": {},
   "outputs": [
    {
     "data": {
      "text/plain": [
       "1"
      ]
     },
     "execution_count": 3,
     "metadata": {},
     "output_type": "execute_result"
    }
   ],
   "source": [
    "# En v/m=a, m*a+r=v, r es el residuo\n",
    "5%2 # Residuo de la división entera"
   ]
  },
  {
   "cell_type": "code",
   "execution_count": 4,
   "metadata": {},
   "outputs": [],
   "source": [
    "def congruencial(x):\n",
    "    m,a,b=9,5,1\n",
    "    return (a*x+b)%m"
   ]
  },
  {
   "cell_type": "code",
   "execution_count": 20,
   "metadata": {},
   "outputs": [
    {
     "data": {
      "text/plain": [
       "6"
      ]
     },
     "execution_count": 20,
     "metadata": {},
     "output_type": "execute_result"
    }
   ],
   "source": [
    "x0=1\n",
    "congruencial(x0)"
   ]
  },
  {
   "cell_type": "code",
   "execution_count": 21,
   "metadata": {},
   "outputs": [],
   "source": [
    "x=1"
   ]
  },
  {
   "cell_type": "code",
   "execution_count": 89,
   "metadata": {},
   "outputs": [
    {
     "data": {
      "text/plain": [
       "4"
      ]
     },
     "execution_count": 89,
     "metadata": {},
     "output_type": "execute_result"
    }
   ],
   "source": [
    "x=congruencial(x)\n",
    "x"
   ]
  },
  {
   "cell_type": "markdown",
   "metadata": {},
   "source": [
    "2. $m=16$, $a=5$, $b=3$, $x_0=7$."
   ]
  },
  {
   "cell_type": "code",
   "execution_count": 90,
   "metadata": {},
   "outputs": [],
   "source": [
    "def congruencial(x):\n",
    "    m,a,b=16,5,3\n",
    "    return (a*x+b)%m"
   ]
  },
  {
   "cell_type": "code",
   "execution_count": 168,
   "metadata": {},
   "outputs": [],
   "source": [
    "x=7"
   ]
  },
  {
   "cell_type": "code",
   "execution_count": 169,
   "metadata": {},
   "outputs": [
    {
     "data": {
      "text/plain": [
       "6"
      ]
     },
     "execution_count": 169,
     "metadata": {},
     "output_type": "execute_result"
    }
   ],
   "source": [
    "x=congruencial(x)\n",
    "x"
   ]
  },
  {
   "cell_type": "markdown",
   "metadata": {},
   "source": [
    "1. Son listas de números que se repiten.\n",
    "2. Como máximo se repiten cada $m$ (módulo). Hay que tomar $m$ grande.\n",
    "3. Son números enteros entre $0$ y $m$. Para que estén entre $0$ y $1$ hay que dividirlos entre $m$."
   ]
  },
  {
   "cell_type": "markdown",
   "metadata": {},
   "source": [
    "En efecto, un generador congruencial queda completamente determinado por los parámetros $m$, $a$, $b$ y $x_0$.\n",
    "\n",
    "**Proposición.** Los valores generados por un método congruencial verifican:\n",
    "\n",
    "$$x_n = \\left(a^n x_0+b\\frac{a^n-1}{a-1}\\right) \\mod m.$$\n"
   ]
  },
  {
   "cell_type": "markdown",
   "metadata": {},
   "source": [
    "### Programemos este método\n",
    "\n",
    "De acuerdo a lo descrito arriba, quisiéramos programar una función que reciba:\n",
    "- la semilla $x_0$,\n",
    "- el multiplicador $a$,\n",
    "- el incremento $b$,\n",
    "- el módulo $m$, y\n",
    "- la cantidad de elementos de la secuencia pseudoaleatoria requeridos $n$,\n",
    "\n",
    "y que retorne la secuencia pseudoaleatoria de longitud $n$."
   ]
  },
  {
   "cell_type": "code",
   "execution_count": 165,
   "metadata": {},
   "outputs": [],
   "source": [
    "import numpy as np"
   ]
  },
  {
   "cell_type": "code",
   "execution_count": 166,
   "metadata": {},
   "outputs": [],
   "source": [
    "def cong(x0,n):\n",
    "    N=np.linspace(1,n,n)\n",
    "    a,b,m=5,3,16\n",
    "    return (a**N*x0+b*(a**N-1)/(a-1))%m"
   ]
  },
  {
   "cell_type": "code",
   "execution_count": 171,
   "metadata": {},
   "outputs": [
    {
     "data": {
      "text/plain": [
       "array([ 6.,  1.,  8., 11., 10.,  5., 12., 15., 14.,  9.,  0.,  3.,  2.,\n",
       "       13.,  4.,  7.,  6.,  1.,  8., 11.])"
      ]
     },
     "execution_count": 171,
     "metadata": {},
     "output_type": "execute_result"
    }
   ],
   "source": [
    "cong(7,20)"
   ]
  },
  {
   "cell_type": "code",
   "execution_count": 170,
   "metadata": {},
   "outputs": [
    {
     "data": {
      "text/plain": [
       "array([11., 10.,  5., 12., 15., 14.,  9.,  0.,  3.,  2., 13.,  4.,  7.,\n",
       "        6.,  1.,  8., 11., 10.,  5., 12.])"
      ]
     },
     "execution_count": 170,
     "metadata": {},
     "output_type": "execute_result"
    }
   ],
   "source": [
    "cong(8,20)"
   ]
  },
  {
   "cell_type": "markdown",
   "metadata": {},
   "source": [
    "**Ejemplo**\n",
    "\n",
    "Probar con los conjuntos de parámetros anteriores:\n",
    "1. $m=9$, $a=5$, $b=1$, $x_0=1$.\n",
    "2. $m=16$, $a=5$, $b=3$, $x_0=7$.\n",
    "\n",
    "Además,\n",
    "- Para el conjunto de parámetros 1, probar con las semillas $x_0=5,8$.\n",
    "- Para el conjunto de parámetros 2, probar con diferentes semillas."
   ]
  },
  {
   "cell_type": "code",
   "execution_count": 172,
   "metadata": {},
   "outputs": [],
   "source": [
    "def cong(x0,n):\n",
    "    N=np.linspace(1,n,n)\n",
    "    a,b,m=5,1,9\n",
    "    return (a**N*x0+b*(a**N-1)/(a-1))%m"
   ]
  },
  {
   "cell_type": "code",
   "execution_count": 173,
   "metadata": {},
   "outputs": [
    {
     "data": {
      "text/plain": [
       "array([6., 4., 3., 7., 0., 1., 6., 4., 3., 7.])"
      ]
     },
     "execution_count": 173,
     "metadata": {},
     "output_type": "execute_result"
    }
   ],
   "source": [
    "cong(1,10)"
   ]
  },
  {
   "cell_type": "code",
   "execution_count": 174,
   "metadata": {},
   "outputs": [
    {
     "data": {
      "text/plain": [
       "array([8., 5., 8., 5., 8., 5., 8., 5., 8., 5.])"
      ]
     },
     "execution_count": 174,
     "metadata": {},
     "output_type": "execute_result"
    }
   ],
   "source": [
    "cong(5,10)"
   ]
  },
  {
   "cell_type": "code",
   "execution_count": 175,
   "metadata": {},
   "outputs": [
    {
     "data": {
      "text/plain": [
       "array([2., 2., 2., 2., 2., 2., 2., 2., 2., 2.])"
      ]
     },
     "execution_count": 175,
     "metadata": {},
     "output_type": "execute_result"
    }
   ],
   "source": [
    "cong(2,10)"
   ]
  },
  {
   "cell_type": "markdown",
   "metadata": {},
   "source": [
    "**Ejemplo**\n",
    "\n",
    "Los ciclos *for* o *while* son un atentado contra la computación eficiente. Programar de forma vectorizada usando la fórmila:\n",
    "$$x_n = \\left(a^n x_0+b\\frac{a^n-1}{a-1}\\right) \\mod m.$$"
   ]
  },
  {
   "cell_type": "code",
   "execution_count": null,
   "metadata": {},
   "outputs": [],
   "source": []
  },
  {
   "cell_type": "markdown",
   "metadata": {},
   "source": [
    "Entonces vemos que la calidad de nuestro generador congruencial depende fuertemente de la elección de los parámetros, pues quisiéramos que los periodos sean lo más grandes posible ($m$).\n",
    "\n",
    "Cuando el periodo de un generador congruencial coincide con el módulo $m$, lo llamaremos *generador de ciclo completo*. El periodo de este tipo de generadores es independiente de la semilla que utilicemos.\n",
    "\n",
    "El siguiente Teorema nos da condiciones para crear generadores de ciclo completo:"
   ]
  },
  {
   "cell_type": "markdown",
   "metadata": {},
   "source": [
    "**Teorema.** Un generador congruencial tiene periodo completo si y sólo si se cumplen las siguientes condiciones:\n",
    "1. $m$ y $b$ son primos entre sı́.\n",
    "2. Si $q$ es un número primo que divide a $m$, entonces $q$ divide a $a − 1$.\n",
    "3. Si $4$ divide a m, entonces 4 divide a $a − 1$."
   ]
  },
  {
   "cell_type": "markdown",
   "metadata": {},
   "source": [
    "**Ejercicio**\n",
    "\n",
    "Comprobar el teorema en el conjunto de parámetros 2."
   ]
  },
  {
   "cell_type": "markdown",
   "metadata": {},
   "source": [
    "### Comentarios adicionales sobre el generador congruencial\n",
    "\n",
    "Hasta ahora solo nos basamos en aspectos teóricos para ver si un generador es bueno. También hay aspectos computacionales...\n",
    "\n",
    "En ese sentido los generadores multiplicativos son más eficientes que los mixtos porque se ahorran la operación de suma. Sin embargo, por el **Teorema** <font color=red>¿qué pasa con los generadores multiplicativos?</font>\n",
    "\n",
    "De igual forma, una elección computacionalmente adecuada es $m=2^k$ (se elige m grande para tener periodos grandes). Con esta elección, y $k\\geq2$, el generador tendrá periodo completo si y sólo si $b$ es impar y $1 = a \\mod 4$.\n",
    "\n",
    "Si se combina lo anterior (generador multiplicativo con $m=2^k$), obtenemos que el periodo máximo que se puede obtener es una cuarta parte de $m$, $\\frac{2^k}{4}=2^{k-2}$ y se alcanza únicamente para $x_0$ impar y, $3 = a \\mod 8$ o $5 = a \\mod 8$.\n",
    "\n",
    "Un generador multiplicativo muy utilizado, conocido como *RANDU*, tomaba $m = 2^{31}$ y $a = 2^{16} + 3$. Sin embargo, se ha demostrado que tiene propiedades estadı́sticas bastante malas.\n",
    "\n",
    "Los generadores multiplicativos más famosos utilizados por IBM tomaban $m = 2^{31} − 1$ y $a = 7^5, 630360016$.\n",
    "\n",
    "Pueden encontrar más información en este [enlace](https://en.wikipedia.org/wiki/Linear_congruential_generator).\n",
    "\n",
    "- Se pueden hacer combinaciones de generadores y otros generadores más complicados..."
   ]
  },
  {
   "cell_type": "markdown",
   "metadata": {},
   "source": [
    "**Ejemplo**\n",
    "\n",
    "Tomar los parámetros $m=2^{31} − 1$, $a=1103515245$ y $b=12345$, y generar una secuencia pseudoaleatoria uniforme estándar de $n=10^4$ elementos.\n",
    "\n",
    "Luego, dibujar el histograma (diagrama de frecuencias). ¿Corresponde lo obtenido con lo que se imaginaban?"
   ]
  },
  {
   "cell_type": "code",
   "execution_count": 176,
   "metadata": {},
   "outputs": [],
   "source": [
    "def congruencial(x,n):\n",
    "    s=[]\n",
    "    a,b,m=1103515245,12345,2**31-1\n",
    "    for i in range(n):\n",
    "        x=(a*x+b)%m\n",
    "        s.append(x) # Agrega al final de la lista el argumento\n",
    "    return np.array(s)/m"
   ]
  },
  {
   "cell_type": "code",
   "execution_count": 177,
   "metadata": {},
   "outputs": [],
   "source": [
    "import matplotlib.pyplot as plt"
   ]
  },
  {
   "cell_type": "code",
   "execution_count": 178,
   "metadata": {},
   "outputs": [
    {
     "data": {
      "image/png": "[encoded data removed]",
      "text/plain": [
       "<Figure size 640x480 with 1 Axes>"
      ]
     },
     "metadata": {},
     "output_type": "display_data"
    }
   ],
   "source": [
    "x=congruencial(1,10**4)\n",
    "plt.hist(x)\n",
    "plt.grid()"
   ]
  },
  {
   "cell_type": "markdown",
   "metadata": {},
   "source": [
    "**Ejemplo**\n",
    "\n",
    "¿Cómo hacer para obtener secuencias pseudoaleatorias en $\\mathcal{U}(a,b)$?\n",
    "\n",
    "Realizar un código para esto. Hacer una prueba con los parámetros anteriormente tomados y dibujar el histograma para contrastar."
   ]
  },
  {
   "cell_type": "code",
   "execution_count": 181,
   "metadata": {},
   "outputs": [
    {
     "data": {
      "image/png": "[encoded data removed]",
      "text/plain": [
       "<Figure size 640x480 with 1 Axes>"
      ]
     },
     "metadata": {},
     "output_type": "display_data"
    }
   ],
   "source": [
    "A=5\n",
    "B=10\n",
    "x=A+(B-A)*congruencial(1,10**4)\n",
    "plt.hist(x)\n",
    "plt.grid()"
   ]
  },
  {
   "cell_type": "markdown",
   "metadata": {},
   "source": [
    "**Ejemplo**\n",
    "\n",
    "Escribir una función que devuelva secuencias de números aleatorios $\\mathcal{U}(0,1)$ usando los parámetros dados anteriormente y que use como semilla `time.time()`."
   ]
  },
  {
   "cell_type": "code",
   "execution_count": 182,
   "metadata": {},
   "outputs": [],
   "source": [
    "import time"
   ]
  },
  {
   "cell_type": "code",
   "execution_count": 207,
   "metadata": {},
   "outputs": [],
   "source": [
    "time.time?"
   ]
  },
  {
   "cell_type": "code",
   "execution_count": 224,
   "metadata": {},
   "outputs": [
    {
     "data": {
      "text/plain": [
       "2103474980.3085938"
      ]
     },
     "execution_count": 224,
     "metadata": {},
     "output_type": "execute_result"
    }
   ],
   "source": [
    "# Condición inicial\n",
    "(time.time()*10**4)%(2**31-1)"
   ]
  },
  {
   "cell_type": "code",
   "execution_count": 236,
   "metadata": {},
   "outputs": [
    {
     "data": {
      "image/png": "[encoded data removed]",
      "text/plain": [
       "<Figure size 640x480 with 1 Axes>"
      ]
     },
     "metadata": {},
     "output_type": "display_data"
    }
   ],
   "source": [
    "def uniforme(a,b,n):\n",
    "    x0=(time.time()*10**4)%(2**31-1)\n",
    "    return a+(b-a)*congruencial(x0,n)\n",
    "x=uniforme(5,10,10**4)\n",
    "plt.hist(x)\n",
    "plt.grid()"
   ]
  },
  {
   "cell_type": "markdown",
   "metadata": {},
   "source": [
    "$\\pi$, $\\frac{num}{den}$"
   ]
  },
  {
   "cell_type": "markdown",
   "metadata": {},
   "source": [
    "___\n",
    "## 1.3 Método Box–Muller para generación de números pseudoaleatorios $\\mathcal{N}(0,1)$\n",
    "\n",
    "Teniendo dos secuencias de números pseudoaleatorios independientes e uniformemente distribuidos en el intervalo $\\left[0,1\\right]$ ($\\mathcal{U}(0,1)$) es posible generar dos secuencias  de números pseudoaleatorios independientes y normalmente distribuidos con media cero y varianza unitaria ($\\mathcal{N}(0,1)$).\n",
    "\n",
    "Este método se conoce como el método Box–Muller."
   ]
  },
  {
   "cell_type": "markdown",
   "metadata": {},
   "source": [
    "Supongamos que $U_1$ y $U_2$ son variables aleatorias independientes que están uniformemente distribuidas en el intervalo $\\left[0,1\\right]$. Sean entonces:\n",
    "\n",
    "$$X=R\\cos(\\theta)=\\sqrt{-2\\log(U_1)}\\cos(2\\pi U_2),$$\n",
    "\n",
    "y\n",
    "\n",
    "$$Y=R\\sin(\\theta)=\\sqrt{-2\\log(U_1)}\\sin(2\\pi U_2).$$\n",
    "\n",
    "Entonces, $X$ y $Y$ son variables aleatorias independientes con una distribución normal estándar ($\\mathcal{N}(0,1)$)."
   ]
  },
  {
   "cell_type": "markdown",
   "metadata": {},
   "source": [
    "La derivación de esto se basa en la transformación del sistema cartesiano al sistema polar."
   ]
  },
  {
   "cell_type": "markdown",
   "metadata": {},
   "source": [
    "**Ejemplo**\n",
    "\n",
    "Escribir una función que devuelva secuencias de números aleatorios $\\mathcal{N}(0,1)$.\n",
    "\n",
    "*Usar la función escrita anteriormente*"
   ]
  },
  {
   "cell_type": "code",
   "execution_count": null,
   "metadata": {},
   "outputs": [],
   "source": []
  },
  {
   "cell_type": "markdown",
   "metadata": {},
   "source": [
    "**Ejemplo**\n",
    "\n",
    "Generar una secuencia pseudoaleatoria normal estándar de $n=10^4$ elementos.\n",
    "\n",
    "Luego, dibujar el histograma (diagrama de frecuencias). ¿Corresponde lo obtenido con lo que se imaginaban?"
   ]
  },
  {
   "cell_type": "code",
   "execution_count": null,
   "metadata": {},
   "outputs": [],
   "source": []
  },
  {
   "cell_type": "markdown",
   "metadata": {},
   "source": [
    "**Ejemplo**\n",
    "\n",
    "¿Cómo hacer para obtener secuencias pseudoaleatorias en $\\mathcal{N}(\\mu,\\sigma)$?\n",
    "\n",
    "Realizar un código para esto. Hacer una prueba y dibujar el histograma para contrastar."
   ]
  },
  {
   "cell_type": "code",
   "execution_count": null,
   "metadata": {},
   "outputs": [],
   "source": []
  },
  {
   "cell_type": "markdown",
   "metadata": {},
   "source": [
    "Finalmente, mostrar que funciones de este tipo ya están en `numpy`. Ya sabemos como se obtienen."
   ]
  },
  {
   "cell_type": "code",
   "execution_count": null,
   "metadata": {},
   "outputs": [],
   "source": []
  }
 ],
 "metadata": {
  "kernelspec": {
   "display_name": "Python 3 (ipykernel)",
   "language": "python",
   "name": "python3"
  },
  "language_info": {
   "codemirror_mode": {
    "name": "ipython",
    "version": 3
   },
   "file_extension": ".py",
   "mimetype": "text/x-python",
   "name": "python",
   "nbconvert_exporter": "python",
   "pygments_lexer": "ipython3",
   "version": "3.9.12"
  }
 },
 "nbformat": 4,
 "nbformat_minor": 2
}
