{
 "cells": [
  {
   "cell_type": "markdown",
   "metadata": {},
   "source": [
    "# Integración numérica Montecarlo\n",
    "\n",
    "**Referencia:**\n",
    "- https://ocw.mit.edu/courses/mechanical-engineering/2-086-numerical-computation-for-mechanical-engineers-fall-2014/nutshells-guis/MIT2_086F14_Monte_Carlo.pdf\n",
    "- http://ta.twi.tudelft.nl/mf/users/oosterle/oosterlee/lec8-hit-2009.pdf\n",
    "- Sauer, Timothy. *Análisis Numérico*, 2da. Edición, ISBN: 978-607-32-2059-0.\n",
    "\n",
    "<img style=\"float: center; margin: 0px 0px 15px 15px;\" src=\"https://upload.wikimedia.org/wikipedia/commons/f/f2/Integral_as_region_under_curve.svg\" width=\"300px\" height=\"100px\" />\n",
    "\n"
   ]
  },
  {
   "cell_type": "markdown",
   "metadata": {},
   "source": [
    "## Motivación\n",
    "\n",
    "En análisis de ingeniería, normalmente debemos evaluar integrales definidas sobre un dominio complejo o en un espacio de dimensión alta.\n",
    "\n",
    "> Por ejemplo, podríamos querer calcular:\n",
    "> - la deflexión en una viga de geometría complicada, \n",
    "> - el volumen de una parte tridimensional de una aeronave,\n",
    "> - o evaluar alguna medida de rendimiento (rentabilidad) en algún proceso que sea expresada como una integral de alguna función sin antiderivada primitiva (que se pueda expresar en términos de funciones elementales).\n",
    "\n",
    "A la mano tenemos herramientas de integración analítica cuando tanto el espacio de integración como la función a integrar son simples. Cuando la función a integrar es difícil (incluso, imposible) de integrar podemos aún recurrir a métodos numéricos de integración. \n",
    "\n",
    "> Desafortunadamente, los métodos determinísiticos de integración fallan cuando:\n",
    "> - la región es demasiado compleja para discretizarla,\n",
    "> - o la función a integrar es demasiado irregular,\n",
    "> - o la convergencia es demasiado lenta debido a la alta dimensionalidad del espacio de integración (ver [Maldición de la dimensionalidad](https://es.wikipedia.org/wiki/Maldici%C3%B3n_de_la_dimensi%C3%B3n)).\n",
    "\n",
    "Por eso en esta clase veremos una *técnica alternativa de integración numérica*: **Integración Montecarlo**."
   ]
  },
  {
   "cell_type": "markdown",
   "metadata": {},
   "source": [
    "### Ejemplos de funciones sin antiderivada primitiva.\n",
    "\n",
    "De su curso de cálculo integral seguro recordarán (o estarán viendo) que existen funciones cuya integral no tiene primitiva. Es decir, **que no podemos encontrar una función que se pueda expresar en forma de funciones elementales cuya derivada sea tal función**.\n",
    "\n",
    "Esto **no significa que dicha función no se pueda integrar**, ya que sabemos que cualquier función continua es integrable (y la mayoría de funciones que vemos a ese nivel, lo son). Lo que ocurre es que no podemos expresar dicha integral de una forma sencilla (por ejemplo, en función de exponenciales, senos, cosenos, logaritmos...).\n",
    "\n",
    "Algunas integrales que no son elementales son:\n",
    "- $\\int e^{p(x)}\\text{d}x$, donde $p(x)$ es un polinomio de grado mayor o igual a dos.\n",
    "- $\\int \\frac{1}{log(x)}\\text{d}x$.\n",
    "- $\\int \\frac{sin(x)}{x}\\text{d}x$\n",
    "\n",
    "**Referencia:**\n",
    "- https://www.gaussianos.com/funciones-sin-primitiva-elemental/"
   ]
  },
  {
   "cell_type": "markdown",
   "metadata": {},
   "source": [
    "### Ejemplos de regiones difíciles de discretizar."
   ]
  },
  {
   "cell_type": "code",
   "execution_count": null,
   "metadata": {},
   "outputs": [],
   "source": [
    "from IPython.display import YouTubeVideo\n",
    "YouTubeVideo('Ti5zUD08w5s')"
   ]
  },
  {
   "cell_type": "code",
   "execution_count": null,
   "metadata": {},
   "outputs": [],
   "source": [
    "YouTubeVideo('jmsFC0mNayM')"
   ]
  },
  {
   "cell_type": "markdown",
   "metadata": {},
   "source": [
    "___\n",
    "## Integración Montecarlo tipo 1\n",
    "Se basa en la definición de *valor promedio* de una función y en el *valor esperado* de una *variable aleatoria uniforme*.\n",
    "\n",
    "Presentamos esto mediante un ejemplo.\n",
    "\n",
    "**Ejemplo.** Aproxime el área bajo la curva $y=(x-2)^2$ en el intervalo $\\left[0,1\\right]$.\n",
    "\n",
    "Veamos primero cómo luce dicha área."
   ]
  },
  {
   "cell_type": "code",
   "execution_count": null,
   "metadata": {},
   "outputs": [],
   "source": []
  },
  {
   "cell_type": "markdown",
   "metadata": {},
   "source": [
    "Entonces, lo que queremos es aproximar el área de la región $\\mathcal{D}$. Llamaremos esta área $A(\\mathcal{D})$.\n",
    "\n",
    "De cálculo integral, sabemos que\n",
    "\n",
    "$$A(\\mathcal{D})=\\int_{0}^{1}y\\text{d}x=\\int_{0}^{1}(x-2)^2\\text{d}x.$$"
   ]
  },
  {
   "cell_type": "markdown",
   "metadata": {},
   "source": [
    "Por *definición*, el **valor promedio** de una función $f:\\left[a,b\\right]\\to\\mathbb{R}$ en un intervalo $\\left[a,b\\right]$ es\n",
    "\n",
    "$$\\frac{1}{b-a}\\int_{a}^{b}f(x)\\text{d}x.$$\n",
    "\n",
    "Entonces, el área bajo la curva $y=(x-2)^2$ es exactamente el valor promedio de $f(x)=(x-2)^2$ en $\\left[0,1\\right]$. Este valor promedio puede aproximarse mediante el promedio de los valores de la función en puntos aleatorios **uniformemente distribuidos** en el intervalo $\\left[0,1\\right]$. Es decir,\n",
    "\n",
    "$$A(\\mathcal{D})=\\int_{0}^{1}(x-2)^2\\text{d}x=\\int_{0}^{1}f(x)\\text{d}x\\approx \\frac{1}{N}\\sum_{i=1}^{N}f(u_i)=\\frac{1}{N}\\sum_{i=1}^{N}(u_i-2)^2$$,"
   ]
  },
  {
   "cell_type": "markdown",
   "metadata": {},
   "source": [
    "donde $u_i$ son realizaciones de la variable aleatoria $U\\sim\\mathcal{U}\\left[0,1\\right]$ ($U$ distribuye uniformemente en el intervalo $\\left[0,1\\right]$)."
   ]
  },
  {
   "cell_type": "markdown",
   "metadata": {},
   "source": [
    "**¿Cómo construir vectores de números aleatorios?**\n",
    "- Ver [numpy.random](https://docs.scipy.org/doc/numpy-1.10.0/reference/routines.random.html).\n",
    "\n",
    "En este caso necesitamos $N$ números aleatorios uniformemente distribuidos..."
   ]
  },
  {
   "cell_type": "code",
   "execution_count": null,
   "metadata": {},
   "outputs": [],
   "source": []
  },
  {
   "cell_type": "markdown",
   "metadata": {},
   "source": [
    "En este caso, la integral se puede hacer fácilmente. Comparemos el resultado con el valor real:\n",
    "\n",
    "$$A(\\mathcal{D})=\\int_{0}^{1}(x-2)^2\\text{d}x=\\left.\\frac{(x-2)^3}{3}\\right|_{x=0}^{x=1}=\\frac{7}{3}$$"
   ]
  },
  {
   "cell_type": "markdown",
   "metadata": {},
   "source": [
    "Hagamos una tabla viendo:\n",
    "- cantidad de terminos\n",
    "- valor de la aproximacion\n",
    "- error relativo"
   ]
  },
  {
   "cell_type": "code",
   "execution_count": null,
   "metadata": {},
   "outputs": [],
   "source": []
  },
  {
   "cell_type": "markdown",
   "metadata": {},
   "source": [
    "Ver que los resultados son distintos cada vez (¿porqué?). Sin embargo, se aproximan más o menos en la misma medida."
   ]
  },
  {
   "cell_type": "markdown",
   "metadata": {},
   "source": [
    "**Aproximación de integrales en intervalos distintos a $\\left[0,1\\right]$.**\n",
    "\n",
    "Sin embargo, no todas las integrales que hacemos son en el intervalo $\\left[0,1\\right]$. En general, podemos integrar cualquier función continua en el intervalo $\\left[a,b\\right]$, donde $a,b\\in\\mathbb{R}$ con $a<b$.\n",
    "\n",
    "Sea $f:\\left[a,b\\right]\\to\\mathbb{R}$ una función continua en el intervalo $\\left(a,b\\right)$ (por lo tanto es integrable endicho intervalo). Queremos resolver:\n",
    "\n",
    "$$\\int_{a}^{b}f(x)\\text{d}x.$$\n",
    "\n",
    "¿Cómo podemos usar la idea del valor promedio para resolver esto?"
   ]
  },
  {
   "cell_type": "markdown",
   "metadata": {},
   "source": [
    "El valor promedio de $f$ en $\\left[a,b\\right]$ es:\n",
    "\n",
    "$$\\frac{1}{b-a}\\int_{a}^{b}f(x)\\text{d}x.$$\n",
    "\n",
    "Este valor promedio puede aproximarse mediante el promedio de $N$ valores de la función en puntos aleatorios **uniformemente distribuidos** en el intervalo $\\left[a,b\\right]$. Es decir,\n",
    "\n",
    "$$\\frac{1}{b-a}\\int_{a}^{b}f(x)\\text{d}x\\approx \\frac{1}{N}\\sum_{i=1}^{N}f(u_i),$$\n",
    "\n",
    "donde $u_i$ son realizaciones de la variable aleatoria $U\\sim\\mathcal{U}\\left[a,b\\right]$ ($U$ distribuye uniformemente en el intervalo $\\left[a,b\\right]$).\n",
    "\n",
    "Finalmente, la aproximación montecarlo tipo 1 con $N$ términos es \n",
    "\n",
    "$$\\int_{a}^{b}f(x)\\text{d}x\\approx \\frac{b-a}{N}\\sum_{i=1}^{N}f(u_i).$$"
   ]
  },
  {
   "cell_type": "markdown",
   "metadata": {},
   "source": [
    "Escribamos una función que tenga como entradas:\n",
    "- la función a integrar $f$,\n",
    "- los límites de integración $a$ y $b$, y\n",
    "- el número de términos que se usará en la aproximación $N$,\n",
    "\n",
    "y que devuelva la aproximación montecarlo tipo 1 de la integral $\\int_{a}^{b}f(x)\\text{d}x$."
   ]
  },
  {
   "cell_type": "code",
   "execution_count": null,
   "metadata": {},
   "outputs": [],
   "source": []
  },
  {
   "cell_type": "markdown",
   "metadata": {},
   "source": [
    "**Actividad.** Utilizar la anterior función para realizar las siguientes integrales. Poner los resultados en una tabla cuyas filas correspondan a la cantidad de términos utilizados en la aproximación (usar 10, 100, 1000, 10000 y 100000 términos) y cuyas columnas correspondan a las funciones.\n",
    "- $\\int_{2}^{2.1} e^{x^2}\\text{d}x$.\n",
    "- $\\int_{2}^{2.1} \\frac{1}{log(x)}\\text{d}x$.\n",
    "- $\\int_{2}^{2.1} \\frac{sin(x)}{x}\\text{d}x$."
   ]
  },
  {
   "cell_type": "code",
   "execution_count": null,
   "metadata": {},
   "outputs": [],
   "source": []
  },
  {
   "cell_type": "markdown",
   "metadata": {},
   "source": [
    "___\n",
    "## Integración Montecarlo tipo 2\n",
    "Con la integración montecarlo tipo 1 pudimos aproximar integrales de funciones continuas de una variable en un intervalo dado. En realidad este mismo análisis se puede ampliar para aproximar integrales definidas de funciones continuas de varias variables (integrales sobre áreas, volúmenes e hipervolúmenes) dado que la noción de valor promedio de una función se extiende a cualquier dimensión.\n",
    "\n",
    "**Este es en realidad el caso interesante, pues las integrales de funciones complicadas también se pueden aproximar por métodos numéricos clásicos, pero cuando la dimensión aumenta es cuando montecarlo se vuelve una herramienta relevante. Dado que no lo veremos en clase por la limitación de que la mayoría no han visto cálculo en varias variables, este tema puede ser elegido como proyecto de módulo, donde se exploraría también como mejorar la aproximación de integrales montecarlo.**\n",
    "\n",
    "Como vimos en el ejemplo (y como debe ser claro de su curso de cálculo integral) una de las aplicaciones más importantes de la integración es hallar áreas. Y no solo el área bajo una curva, sino áreas entre curvas y áreas de regiones más complicadas."
   ]
  },
  {
   "cell_type": "markdown",
   "metadata": {},
   "source": [
    "Antes de ver la integración montecarlo tipo 2, ¿cómo podemos usar la integración montecarlo tipo 1 para aproximar el área entre curvas?\n",
    "\n",
    "**Ejemplo.** Aproxime el área entre las curvas $y=x$, y $y=x^2$ en el intervalo $\\left[0,1\\right]$.\n",
    "\n",
    "Veamos primero cómo luce dicha área."
   ]
  },
  {
   "cell_type": "code",
   "execution_count": null,
   "metadata": {},
   "outputs": [],
   "source": []
  },
  {
   "cell_type": "markdown",
   "metadata": {},
   "source": [
    "De cálculo integral, sabemos que\n",
    "\n",
    "$$A(\\mathcal{D})=\\int_{0}^{1}(x-x^2)\\text{d}x.$$\n",
    "\n",
    "Entonces..."
   ]
  },
  {
   "cell_type": "code",
   "execution_count": null,
   "metadata": {},
   "outputs": [],
   "source": []
  },
  {
   "cell_type": "markdown",
   "metadata": {},
   "source": [
    "De modo que si la región se puede describir fácilmente, entonces podemos aproximar la integral sin problema."
   ]
  },
  {
   "cell_type": "markdown",
   "metadata": {},
   "source": [
    "Pero, ¿qué pasa si la geometría de la región no se puede describir fácilmente?"
   ]
  },
  {
   "cell_type": "markdown",
   "metadata": {},
   "source": [
    "Como en el caso anterior, motivaremos el método con un caso conocido. Vamos a aproximar el valor de $\\pi$ usando el área de un círculo unitario.\n",
    "\n",
    "Dibujemos el círculo unitario en la región $\\mathcal{R}=\\left[-1,1\\right]\\times\\left[-1,1\\right]$."
   ]
  },
  {
   "cell_type": "code",
   "execution_count": null,
   "metadata": {},
   "outputs": [],
   "source": []
  },
  {
   "cell_type": "markdown",
   "metadata": {},
   "source": [
    "Si aproximamos $A(\\mathcal{D})$ aproximamos el valor de $\\pi$, pues el área del círculo unitario es:\n",
    "\n",
    "$$A(\\mathcal{D})=\\pi(1)^2=\\pi.$$\n",
    "\n",
    "Por otra parte es claro que el área de la región $\\mathcal{R}=\\left[-1,1\\right]\\times\\left[-1,1\\right]$ es\n",
    "\n",
    "$$A(\\mathcal{R})=4.$$"
   ]
  },
  {
   "cell_type": "markdown",
   "metadata": {},
   "source": [
    "Ahora, haremos uso de nuestro generador de números aleatorios. Supongamos que escogemos un punto aleatorio en la región $\\mathcal{R}=\\left[-1,1\\right]\\times\\left[-1,1\\right]$. Describimos este punto como $(X,Y)$ para $X$ e $Y$ variables aleatorias uniformes sobre el intervalo $\\left[-1,1\\right]$.\n",
    "\n",
    "¿Cómo generamos puntos aleatorios en un rectángulo?"
   ]
  },
  {
   "cell_type": "code",
   "execution_count": null,
   "metadata": {},
   "outputs": [],
   "source": []
  },
  {
   "cell_type": "markdown",
   "metadata": {},
   "source": [
    "La probabilidad de que el punto $(X,Y)$ esté en el círculo unitario $\\mathcal{D}$ es\n",
    "\n",
    "$$P((X,Y)\\in\\mathcal{D})=\\frac{A(\\mathcal{D})}{A(\\mathcal{R})}=\\frac{\\pi}{4}.$$"
   ]
  },
  {
   "cell_type": "markdown",
   "metadata": {},
   "source": [
    "Luego, definimos una variable aleatoria de Bernoulli $B$ de manera que\n",
    "\n",
    "$$B=\\left\\lbrace\\begin{array}{ccc}0 & \\text{si} & (X,Y)\\notin\\mathcal{D}\\\\1 & \\text{si} & (X,Y)\\in\\mathcal{D} \\end{array}\\right.=\\left\\lbrace\\begin{array}{ccc}0 & \\text{si} & X^2+Y^2>1\\\\1 & \\text{si} & X^2+Y^2\\leq 1 \\end{array}\\right..$$\n",
    "\n",
    "Entonces, el valor esperado de la variable aleatoria $B$ es\n",
    "\n",
    "$$E\\left[B\\right]=\\theta=P((X,Y)\\in\\mathcal{D})=\\frac{A(\\mathcal{D})}{A(\\mathcal{R})}.$$"
   ]
  },
  {
   "cell_type": "markdown",
   "metadata": {},
   "source": [
    "De lo anterior, una estimación de $\\theta$ se puede obtener como\n",
    "\n",
    "$$\\theta=\\frac{A(\\mathcal{D})}{A(\\mathcal{R})}\\approx \\frac{1}{N}\\sum_{i=1}^{N}b_i,$$\n",
    "\n",
    "donde \n",
    "\n",
    "$$b_i=\\left\\lbrace\\begin{array}{ccc}0 & \\text{si} & x_i^2+y_i^2>1\\\\1 & \\text{si} & x_i^2+y_i^2\\leq 1 \\end{array}\\right.$$\n",
    "\n",
    "son realizaciones de la variable aleatoria $B$, que a su vez es producto de las realizaciones $x_i$ e $y_i$ de las variables aleatorias $X$ e $Y$, respectivamente."
   ]
  },
  {
   "cell_type": "markdown",
   "metadata": {},
   "source": [
    "Finalmente, la aproximación montecarlo tipo 2 con $N$ términos es \n",
    "\n",
    "$$A(\\mathcal{D})\\approx \\frac{A(\\mathcal{R})}{N}\\sum_{i=1}^{N}b_i.$$"
   ]
  },
  {
   "cell_type": "code",
   "execution_count": null,
   "metadata": {},
   "outputs": [],
   "source": []
  },
  {
   "cell_type": "markdown",
   "metadata": {},
   "source": [
    "De nuevo, comparemos con el valor exacto."
   ]
  },
  {
   "cell_type": "code",
   "execution_count": null,
   "metadata": {},
   "outputs": [],
   "source": []
  },
  {
   "cell_type": "markdown",
   "metadata": {},
   "source": [
    "Escribamos una función que tenga como entradas:\n",
    "- la función que describe la region $region$,\n",
    "- los límites de la region $a_1$, $b_1$, $a_2$ y $b_2$, con $R=\\left[a_1,b_1\\right]\\times\\left[a_2,b_2\\right]$ y\n",
    "- el número de términos que se usará en la aproximación $N$,\n",
    "\n",
    "y que devuelva la aproximación montecarlo tipo 2 del area de la region."
   ]
  },
  {
   "cell_type": "code",
   "execution_count": null,
   "metadata": {},
   "outputs": [],
   "source": []
  },
  {
   "cell_type": "markdown",
   "metadata": {},
   "source": [
    "**Actividad.** Utilizar la anterior función para aproximar el área de la región descrita por\n",
    "\n",
    "$$4(2x-1)^4+8(2y-1)^8<1+2(2y-1)^3(3x-2)^2$$\n",
    "\n",
    "Poner los resultados en una tabla cuyas filas correspondan a la cantidad de términos utilizados en la aproximación (usar 10, 100, 1000, 10000 y 100000 términos)."
   ]
  },
  {
   "cell_type": "code",
   "execution_count": null,
   "metadata": {},
   "outputs": [],
   "source": []
  },
  {
   "cell_type": "markdown",
   "metadata": {},
   "source": [
    "___\n",
    "## Error de aproximación de integrales por montecarlo\n",
    "Ver [documento mit](https://ocw.mit.edu/courses/mechanical-engineering/2-086-numerical-computation-for-mechanical-engineers-fall-2014/nutshells-guis/MIT2_086F14_Monte_Carlo.pdf), página 5."
   ]
  }
 ],
 "metadata": {
  "kernelspec": {
   "display_name": "Python 3",
   "language": "python",
   "name": "python3"
  },
  "language_info": {
   "codemirror_mode": {
    "name": "ipython",
    "version": 3
   },
   "file_extension": ".py",
   "mimetype": "text/x-python",
   "name": "python",
   "nbconvert_exporter": "python",
   "pygments_lexer": "ipython3",
   "version": "3.7.3"
  }
 },
 "nbformat": 4,
 "nbformat_minor": 2
}
