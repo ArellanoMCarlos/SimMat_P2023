{
 "cells": [
  {
   "cell_type": "markdown",
   "metadata": {},
   "source": [
    "# Gestión de proyectos\n",
    "\n",
    "### `git`, `GitHub`, `GitKraken`\n",
    "\n",
    "<img style=\"float: left; margin: 15px 15px 15px 15px;\" src=\"http://conociendogithub.readthedocs.io/en/latest/_images/Git.png\" width=\"180\" height=\"50\" />\n",
    "<img style=\"float: left; margin: 15px 15px 15px 15px;\" src=\"https://c1.staticflickr.com/3/2238/13158675193_2892abac95_z.jpg\" title=\"github\" width=\"180\" height=\"50\" />\n",
    "<img style=\"float: left; margin: 15px 15px 15px 15px;\" src=\"https://www.gitkraken.com/wp-content/uploads/2021/06/gitkraken-logo-dark-sq.png\" title=\"gitkraken\" width=\"110\" />"
   ]
  },
  {
   "cell_type": "markdown",
   "metadata": {},
   "source": [
    "## Qué es `git`\n",
    "<img style=\"float: right; margin: 15px 15px 15px 15px;\" src=\"http://conociendogithub.readthedocs.io/en/latest/_images/Git.png\" title=\"git\" width=\"180\" height=\"50\">\n",
    "\n",
    "- *Software* de código aberto.\n",
    "\n",
    "- Control de versiones.\n",
    "\n",
    "- Lleva registro de los cambios en los archivos.\n",
    "\n",
    "- Coordina el trabajo que varias personas realizan sobre archivos compartidos."
   ]
  },
  {
   "cell_type": "markdown",
   "metadata": {},
   "source": [
    "#### Referencas\n",
    "\n",
    "- Documentación oficial de `git`: https://git-scm.com/doc\n",
    "- Control de versiones wiki: https://es.wikipedia.org/wiki/Control_de_versiones\n",
    "- `git` wiki: https://es.wikipedia.org/wiki/Git\n",
    "- Tutorial git: https://try.github.io/\n",
    "- Tutorial branching en `git`: http://learngitbranching.js.org"
   ]
  },
  {
   "cell_type": "markdown",
   "metadata": {},
   "source": [
    "## Qué es `GitHub`\n",
    "<img style=\"float: right; margin: 15px 15px 15px 15px;\" src=\"https://c1.staticflickr.com/3/2238/13158675193_2892abac95_z.jpg\" title=\"git\" width=\"180\" height=\"50\">\n",
    "\n",
    "- Ofrece servicios de *hosting* para repositorios git.\n",
    "\n",
    "> Con `git` trabajas control de versiones de manera local.\n",
    ">\n",
    "> Usando `git` y `Github` en conjunto, trabajas de forma remota con archivoos compartidos."
   ]
  },
  {
   "cell_type": "markdown",
   "metadata": {},
   "source": [
    "#### Referencias:\n",
    "- Página oficial de `GitHub`: https://github.com\n",
    "- http://conociendogithub.readthedocs.io/en/latest/data/introduccion/"
   ]
  },
  {
   "cell_type": "markdown",
   "metadata": {},
   "source": [
    "## Tutorial de GitHub\n",
    "- https://guides.github.com/activities/hello-world/"
   ]
  },
  {
   "cell_type": "code",
   "execution_count": 1,
   "metadata": {
    "scrolled": true
   },
   "outputs": [
    {
     "name": "stderr",
     "output_type": "stream",
     "text": [
      "C:\\ProgramData\\Anaconda3\\lib\\site-packages\\IPython\\core\\display.py:724: UserWarning: Consider using IPython.display.IFrame instead\n",
      "  warnings.warn(\"Consider using IPython.display.IFrame instead\")\n"
     ]
    },
    {
     "data": {
      "text/html": [
       "<iframe src=https://guides.github.com/activities/hello-world/ width=700 height=600></iframe>"
      ],
      "text/plain": [
       "<IPython.core.display.HTML object>"
      ]
     },
     "execution_count": 1,
     "metadata": {},
     "output_type": "execute_result"
    }
   ],
   "source": [
    "from IPython.display import HTML\n",
    "HTML('<iframe src=https://guides.github.com/activities/hello-world/ width=700 height=600></iframe>')"
   ]
  },
  {
   "cell_type": "markdown",
   "metadata": {},
   "source": [
    "## ¿Qué es `GitKraken`?\n",
    "<img style=\"float: right; margin: 15px 15px 15px 15px;\" src=\"https://www.gitkraken.com/wp-content/uploads/2021/06/gitkraken-logo-dark-sq.png\" title=\"git\" width=\"180\" height=\"50\">\n",
    "\n",
    "- Es la interfaz gráfica de `git` para usarlo con `GitHub`\n",
    "\n",
    "`git` viene con algunas herramientas *GUI* (Graphical User Interface) por defecto con su instalación. Aún así, existen varias GUI desarrolladas por otras compañías para brindar una experiencia más cómoda según el sistema operativo.\n",
    "\n",
    "`GitKraken` es entonces una de estas GUI, **gratuita para el uso no comercial**, que tiene versiones para los sistemas operativos *Windows*, *Mac* y *Linux*."
   ]
  },
  {
   "cell_type": "markdown",
   "metadata": {},
   "source": [
    "Referencias:\n",
    "- https://git-scm.com/downloads/guis\n",
    "- https://support.gitkraken.com/getting-started/guide"
   ]
  },
  {
   "cell_type": "markdown",
   "metadata": {},
   "source": [
    "### Primeros pasos con `GitKraken`\n",
    "\n",
    "1. Descargar e instalar `GitKraken`.\n",
    "2. Abrir `GitKraken`. Cuando nos pida autenticación, nos autenticamos con la cuenta existente de `GitHub`.\n",
    "3. Ir a la pestaña superior derecha de *Preferences* para ver *Profiles* (por defecto el de GitHub) y *Authentication*.\n",
    "    - En *Authentication*, como estamos autenticados con `GitHub` ya deberíamos estar conectados.\n",
    "    - Picarle en *Generate SSH key and add to GitHub*. Esto nos ahorrará estarnos autenticando en `GitHub` para cuando queramos actualizar el repositorio remoto.\n",
    "    - En la parte superior izquierda picarle en *Exit Preferences*.\n",
    "4. Picarle a la carpeta en la esquina superior izquierda. Tres opciones:\n",
    "    - *Open*: abrir un repositorio local ya existente.\n",
    "    - ***Clone*: clonar un repositorio remoto.**\n",
    "    - *Init*: empezar a hacer control de versiones en un proyecto desde cero.\n",
    "5. Picarle en *Clone*. Como ya estamos autenticados en `GitHub`, aparecerán todos los repositorios disponibles en nuestra cuenta de `GitHub` (en este caso solo tendremos `hello-world`).\n",
    "    - En *Browse*, buscar el directorio/carpeta donde quieren que el repositorio sea clonado.\n",
    "    - Picar en `hello-world`.\n",
    "    - Picar en *Clone the repo*.\n",
    "6. Abrir el directorio `hello-world`, modificar el archivo `README.md` y guardar los cambios.\n",
    "    - Cuando volvamos a `GitKraken`, veremos que se ha actualizado la modificación.\n",
    "    - Picamos en el paso de la actualización y en la derecha veremos el archivo modificado.\n",
    "    - Picamos en `README.md` y podremos ver la modificación que hicimos en el archivo.\n",
    "    - Antes de llevar a cabo los cambios, ir al repositorio remoto en `GitHub` y ver que el archivo `README.md` no se ha modificado. Solo clonamos los archivos en el repositorio local.\n",
    "    - Volvemos a `GitKraken`, picamos en *Stage file* y comentamos los cambios.\n",
    "    - Picar en *Commit*.\n",
    "7. Revisar el arbol de cambios. Hay un ícono que revela hasta donde están los cambios en `GitHub` y el otro revela que vamos un paso más adelante en el repositorio local. Este cambio aún no se hace en el repositorio remoto en `GitHub`.\n",
    "8. Para sincronizar los cambios en el repositorio de `GitHub` debemos picar en *Push* en la parte superior. Los íconos deberían juntarse.\n",
    "9. Ir a `GitHub` y ver que el cambio en efecto se realizó.\n",
    "10. Estando en `GitHub` en el repositorio `hello-world`, picar en *Create new file*.\n",
    "    - Normalmente la gente no crea ni edita archivos en `GitHub`, sin embargo esta será nuestra forma de emular que alguien incluyó un nuevo archivo en nuestro proyecto.\n",
    "    - Darle algún nombre al archivo y poner algo en el cuerpo de texto.\n",
    "    - Poner un mensaje describiendo que se añadió un nuevo archivo.\n",
    "    - Picar en *Commit new file*.\n",
    "    - Ver que en el repositorio remoto en `GitHub` ya existe el nuevo archivo, pero en el repositorio local no.\n",
    "11. Revisar el arbol de cambios en `GitKraken`. Vemos que ahora el ícono que revela los cambios en `GitHub` va un paso adelante del ícono que revela los cambios en el repositorio local.\n",
    "12. Para incorporar los cambios del repositorio remoto en el repositorio local debemos picar en *Pull* en la parte superior. De nuevo, los íconos deberían juntarse.\n",
    "13. Revisar el repositorio local para ver que el nuevo archivo ya está ahí."
   ]
  },
  {
   "cell_type": "markdown",
   "metadata": {},
   "source": [
    "#### Refrencia"
   ]
  },
  {
   "cell_type": "code",
   "execution_count": 2,
   "metadata": {},
   "outputs": [
    {
     "data": {
      "text/html": [
       "\n",
       "        <iframe\n",
       "            width=\"400\"\n",
       "            height=\"300\"\n",
       "            src=\"https://www.youtube.com/embed/f0y_xCeM1Rk\"\n",
       "            frameborder=\"0\"\n",
       "            allowfullscreen\n",
       "            \n",
       "        ></iframe>\n",
       "        "
      ],
      "text/plain": [
       "<IPython.lib.display.YouTubeVideo at 0x1eb850e3610>"
      ]
     },
     "execution_count": 2,
     "metadata": {},
     "output_type": "execute_result"
    }
   ],
   "source": [
    "from IPython.display import YouTubeVideo\n",
    "YouTubeVideo('f0y_xCeM1Rk')"
   ]
  },
  {
   "cell_type": "markdown",
   "metadata": {},
   "source": [
    "___\n",
    "## Forking\n",
    "Una bifurcación (*fork*) es una copia de un repositorio. Bifurcar un repositorio te permite experimentar cambios libremente sin afectar el proyecto original.\n",
    "\n",
    "Existen varias aplicaciones del *Forking*:\n",
    "\n",
    "### Seguir un proyecto de otra persona\n",
    "Como ejemplo, van a seguir el proyecto de la asignatura **SimMat P2023**.\n",
    "\n",
    "Los siguientes pasos nos enseñarán como mantener nuestro repositorio local actualizado con el repositorio de la asignatura.\n",
    "1. Entrar al repositorio https://github.com/ArellanoMCarlos/SimMat_P2023.\n",
    "2. En la esquina superior derecha, dar click en *fork* y esperar un momento. Esta acción copia en su cuenta de `GitHub` un repositorio idéntico al de la materia (con el mismo nombre).\n",
    "3. Desde `GitKraken`, clonar el repositorio (el que ya está en su cuenta).\n",
    "4. En la pestaña *REMOTE* dar click en el signo `+`.\n",
    "    - Picar en `GitHub`.\n",
    "    - Desplegar la pestaña y elegir ArellanoMCarlos/SimMat_P2023.\n",
    "    - Picar en *Add remote*.\n",
    "5. <font color=red>Añadiré un nuevo archvo en el repositorio de la materia y ustedes verán qué pasa en `GitKraken`</font>.\n",
    "6. Arrastrar el repositorio remoto ajeno a la rama *master* y dar click en la opción *Merge ArellanoMCarlos/master into master*. Ya el repositorio local está actualizado.\n",
    "7. Para actualizar el repositorio remoto propio hacer un *push*.\n",
    "\n",
    "### Proyectos colaborativos\n",
    "Normalmente, los *forks* se usan para proponer cambios en el proyecto de otra persona (hacer proyectos colaborativos).\n",
    "\n",
    "<font color=red>Hacer un cambio en el repositorio propio y mostrar como hacer el *pull request* y el *merge*</font>.\n",
    "\n",
    "**Referencias:**\n",
    "- https://help.github.com/articles/fork-a-repo/\n",
    "- https://guides.github.com/activities/forking/"
   ]
  },
  {
   "cell_type": "markdown",
   "metadata": {},
   "source": [
    "<footer id=\"attribution\" style=\"float:right; color:#808080; background:#fff;\">\n",
    "Créditos para Esteban Jiménez Rodríguez.\n",
    "</footer>"
   ]
  }
 ],
 "metadata": {
  "kernelspec": {
   "display_name": "Python 3 (ipykernel)",
   "language": "python",
   "name": "python3"
  },
  "language_info": {
   "codemirror_mode": {
    "name": "ipython",
    "version": 3
   },
   "file_extension": ".py",
   "mimetype": "text/x-python",
   "name": "python",
   "nbconvert_exporter": "python",
   "pygments_lexer": "ipython3",
   "version": "3.9.12"
  }
 },
 "nbformat": 4,
 "nbformat_minor": 2
}
