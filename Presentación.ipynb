{
 "cells": [
  {
   "cell_type": "markdown",
   "metadata": {},
   "source": [
    "# <font color= #8A0829> Simulación matemática.</font>\n",
    "## Bienvenidos\n",
    " <font color= #2E9AFE>  `Lunes y miercoles (T-109) de 9:00 a 11:00 hrs`</font>\n",
    "\n",
    "- <Strong> Carlos Augusto Arellano Muro </Strong>\n",
    "\n",
    "\n",
    "- <Strong> Email: </Strong>  <font color=\"blue\"> carellanomuro@iteso.mx </font>\n",
    "\n",
    "___"
   ]
  },
  {
   "cell_type": "markdown",
   "metadata": {},
   "source": [
    "## `Descripción de la asignatura`\n",
    "\n",
    "- Solución de problemas de ingeniería de manera óptima.\n",
    "\n",
    "- Uso de herramientas de tecnologías de información.\n",
    "\n",
    "- Abstracción de fenómenos reales al plano matemático.\n",
    "\n",
    "- Tratar diferentes escenarios de un mismo problema para definir una mejor solución.\n",
    "\n",
    "___"
   ]
  },
  {
   "cell_type": "markdown",
   "metadata": {},
   "source": [
    "## `Objetivo`\n",
    "\n",
    "Reproducir escenarios de aplicación profesional a través de modelar fenómenos físicos y así inferir decisiones que permitan la óptima solución a diversos problemas."
   ]
  },
  {
   "cell_type": "markdown",
   "metadata": {},
   "source": [
    "## `Temario`\n",
    "`Módulo 1.` **Optimización**\n",
    "> Se aplicará una evaluación (**exámen**) y se evaluará una presentación de **proyecto.**\n",
    "   1. ¿Qué es una simulación? - Introducción al lenguaje de trabajo (Python) e instalación de software\n",
    "   2. Gestión de proyectos: `git`, `GitHub`, `GitKraken`\n",
    "   3. Optimización de funciones de variable escalar con SymPy\n",
    "   4. Programación Lineal\n",
    "   5. Ajuste de curvas\n",
    "   6. Clasificación\n",
    "\n",
    "`Módulo 2.` **Construcción de modelos de simulación (Montecarlo)**\n",
    "> Se aplicará una evaluación (**exámen**) y se evaluará una presentación de **proyecto.**\n",
    "   1. Generación de números aleatorios\n",
    "   2. Caminata aleatoria\n",
    "   3. Integrales\n",
    "   4. Fractales aleatorios\n",
    "   5. Bajar y organizar datos de Yahoo Finance (Pandas)\n",
    "   6. Probabilidad precio-umbral\n",
    "   \n",
    "`Módulo 3.`  **Ecuaciones diferenciales**\n",
    "> Se aplicará una evaluación (**exámen**) y se evaluará una presentación de **proyecto.**\n",
    "   1. Introducción a ecuaciones diferenciales\n",
    "   2. ¿Cómo se mueve un péndulo?\n",
    "   3. ¿Cómo crece una población?\n",
    "   4. Modelo del rendimiento de una cuenta de ahorro"
   ]
  },
  {
   "cell_type": "markdown",
   "metadata": {},
   "source": [
    "## `Evaluación`\n",
    "\n",
    "- **3 Proyectos (trabajo en equipo) 50%**\n",
    " - Cada proyecto tiene el mismo valor (16.66%)\n",
    "  - La evaluación de cada proyecto se divide en dos partes \n",
    "   - Reporte     50%\n",
    "   - Exposición  50% \n",
    "- **3 Examenes  30%**\n",
    "- **Tareas y actividades de clase 20%**"
   ]
  },
  {
   "cell_type": "markdown",
   "metadata": {},
   "source": [
    "## `Bibliografía`\n",
    "- Process Dynamics: Modeling, Analysis and Simulation by B. Wayne Bequette\n",
    "- Stochastic Simulation and Applications in Financewith MATLAB Programs by HuuTueHuynh\n",
    "- Fluent Python by Ramalho, Luciano \n",
    "- Python for Finance  by Hilpisch, Yves \n",
    "- Python for Scientists by Stewart, John M. \n",
    "- Mathematical Modeling in Continuum Mechanics by Temam & Miranville"
   ]
  }
 ],
 "metadata": {
  "kernelspec": {
   "display_name": "Python 3 (ipykernel)",
   "language": "python",
   "name": "python3"
  },
  "language_info": {
   "codemirror_mode": {
    "name": "ipython",
    "version": 3
   },
   "file_extension": ".py",
   "mimetype": "text/x-python",
   "name": "python",
   "nbconvert_exporter": "python",
   "pygments_lexer": "ipython3",
   "version": "3.9.12"
  }
 },
 "nbformat": 4,
 "nbformat_minor": 2
}
