{
 "cells": [
  {
   "cell_type": "markdown",
   "metadata": {},
   "source": [
    "# ¿Qué es simulación?\n",
    "\n",
    "- Motivación y definiciones básicas.\n",
    "\n",
    "- Descripción de las herramientas que se usarán en el curso."
   ]
  },
  {
   "cell_type": "markdown",
   "metadata": {},
   "source": [
    "___\n",
    "**¿Por qué hacer simulación?**\n",
    "\n",
    "- Reducción de costos: la simulación es mucho menos costosa que la experimentación en la vida real.\n",
    "- Se pueden probar diferentes ideas en un mismo escenario.\n",
    "- Se puede determinar el impacto potencial de eventos aleatorios (inversión).\n",
    "- Evaluar si ciertos procesos son viables (determinar el impacto a largo plazo).\n",
    "- ..."
   ]
  },
  {
   "cell_type": "markdown",
   "metadata": {},
   "source": [
    "<img style=\"center\" src=\"https://upload.wikimedia.org/wikipedia/commons/4/4a/FAE_visualization.jpg\" width=\"350px\" height=\"200px\" alt=\"atom\" />"
   ]
  },
  {
   "cell_type": "markdown",
   "metadata": {},
   "source": [
    "_Referencia:_ \n",
    "_Simulation Fundamentals,  B. S. Bennett_"
   ]
  },
  {
   "cell_type": "markdown",
   "metadata": {},
   "source": [
    "**Definiciones**\n",
    "\n",
    "- Simulación\n",
    "- Sistema\n",
    "- Modelo"
   ]
  },
  {
   "cell_type": "markdown",
   "metadata": {},
   "source": [
    "____\n",
    "### Herramientas computacionales\n",
    "\n",
    "### - [python](https://www.python.org) - [Anaconda](https://www.anaconda.com/distribution/) - [Jupyter](http://jupyter.org)\n",
    "\n",
    " <div>\n",
    "<img style=\"float: left; margin: 0px 0px 15px 15px;\" src=\"https://www.python.org/static/community_logos/python-logo.png\" width=\"200px\" height=\"200px\" alt=\"atom\" />\n",
    "<img style=\"float: left; margin: 0px 0px 15px 15px;\" src=\"https://upload.wikimedia.org/wikipedia/en/c/cd/Anaconda_Logo.png\" width=\"120\" />\n",
    "<img style=\"float: left; margin: 0px 0px 15px 15px;\" src=\"https://jupyter.org/assets/homepage/main-logo.svg\" width=\"60\" />\n"
   ]
  },
  {
   "cell_type": "markdown",
   "metadata": {},
   "source": [
    "#### Programa de bienvenida. \n",
    "welcome.py"
   ]
  },
  {
   "cell_type": "code",
   "execution_count": null,
   "metadata": {},
   "outputs": [],
   "source": []
  },
  {
   "cell_type": "markdown",
   "metadata": {},
   "source": [
    "> **Tarea:** <font color = blue>**Realizar una presentación personal haciendo uso de la sintaxis `Markdown`. En ella deben incluir un resumen de uno de los artículos de The Economist.** </font> \n",
    "\n"
   ]
  },
  {
   "cell_type": "markdown",
   "metadata": {},
   "source": [
    "## Herramientas adicionales"
   ]
  },
  {
   "cell_type": "markdown",
   "metadata": {},
   "source": [
    "- [Markdown](https://confluence.atlassian.com/bitbucketserver/markdown-syntax-guide-776639995.html)\n",
    "- [git](https://git-scm.com)\n",
    "- [GitHub](https://github.com)\n",
    "- [GitKraken](https://www.gitkraken.com/)"
   ]
  },
  {
   "cell_type": "markdown",
   "metadata": {},
   "source": [
    "**Más tarea**\n",
    "\n",
    "Instalar `Git`, crear una cuenta en `GitHub`"
   ]
  },
  {
   "cell_type": "code",
   "execution_count": null,
   "metadata": {},
   "outputs": [],
   "source": []
  }
 ],
 "metadata": {
  "kernelspec": {
   "display_name": "Python 3",
   "language": "python",
   "name": "python3"
  },
  "language_info": {
   "codemirror_mode": {
    "name": "ipython",
    "version": 3
   },
   "file_extension": ".py",
   "mimetype": "text/x-python",
   "name": "python",
   "nbconvert_exporter": "python",
   "pygments_lexer": "ipython3",
   "version": "3.8.8"
  }
 },
 "nbformat": 4,
 "nbformat_minor": 2
}
