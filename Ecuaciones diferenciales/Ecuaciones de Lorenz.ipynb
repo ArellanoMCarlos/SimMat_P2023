{
 "cells": [
  {
   "cell_type": "markdown",
   "id": "8a44f741",
   "metadata": {},
   "source": [
    "# Ecuaciones de Lorenz\n",
    "Un modelo simple basado en la dinámica de fluidos atmosféricos es representado mediante las ecuaciones de Lorenz, desarrollado por el meteorólogo Estadounidense Edward Lorenz:\n",
    "\\begin{eqnarray}\n",
    "\\frac{dx}{dt}&=&-\\sigma x+\\sigma y\\\\\n",
    "\\frac{dy}{dt}&=&rx-y-xz\\\\\n",
    "\\frac{dz}{dt}&=&-bz+xy\n",
    "\\end{eqnarray}\n",
    "Lorenz desarrolló estas ecuaciones para representar la intensidad de movimiento de un fluido atmosférico. Donde $x$ representa la intensidad de movimiento convectivo, $y$ representa  la diferencia de temperatura horizontal en una celda de convección. Y $z$ representando lo que se aleja de la linealidad el perfil vertical de temperaturas del gas. Los parámetros $\\sigma$, $r$ y $b$ son constantes que dependen de la viscosidad y la difusividad térmica del fluído.\n",
    "\n",
    "---\n",
    "\n",
    "Referencias:\n",
    "\n",
    "- [El atractivo de Lorenz - Cuentos cuánticos](https://cuentos-cuanticos.com/2016/10/03/el-atractivo-de-lorenz/)\n",
    "- [Número de Prandtl](https://es.wikipedia.org/wiki/N%C3%BAmero_de_Prandtl)\n",
    "- [Número de Rayleigh](https://es.wikipedia.org/wiki/N%C3%BAmero_de_Rayleigh)\n",
    "\n",
    "---\n",
    "Usando $\\sigma=10$, $b=\\frac{8}{3}$ y $r=28$; condiciones iniciales $x_0=y_0=z_0=5$; encuentre la solución numérica y grafique."
   ]
  },
  {
   "cell_type": "code",
   "execution_count": null,
   "id": "73ab721a",
   "metadata": {},
   "outputs": [],
   "source": []
  }
 ],
 "metadata": {
  "kernelspec": {
   "display_name": "Python 3",
   "language": "python",
   "name": "python3"
  },
  "language_info": {
   "codemirror_mode": {
    "name": "ipython",
    "version": 3
   },
   "file_extension": ".py",
   "mimetype": "text/x-python",
   "name": "python",
   "nbconvert_exporter": "python",
   "pygments_lexer": "ipython3",
   "version": "3.8.8"
  }
 },
 "nbformat": 4,
 "nbformat_minor": 5
}
