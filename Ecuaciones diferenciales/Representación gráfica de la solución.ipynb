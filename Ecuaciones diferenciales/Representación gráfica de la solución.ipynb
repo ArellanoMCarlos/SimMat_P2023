{
 "cells": [
  {
   "cell_type": "markdown",
   "id": "8f13a59e",
   "metadata": {},
   "source": [
    "# Representación gráfica de la solución\n",
    "\n",
    "## 1. ¿Cómo se mueve un péndulo? \n",
    "\n",
    "\n",
    "> Se dice que un sistema cualquiera, mecánico, eléctrico, neumático, etc., es un oscilador armónico si, cuando se deja en libertad fuera de su posición de equilibrio, vuelve hacia ella describiendo oscilaciones sinusoidales, o sinusoidales amortiguadas en torno a dicha posición estable.\n",
    "- https://es.wikipedia.org/wiki/Oscilador_armónico\n",
    "\n",
    "**Referencias**: \n",
    "   - http://matplotlib.org\n",
    "   - https://seaborn.pydata.org\n",
    "   - http://www.numpy.org\n",
    "   - http://ipywidgets.readthedocs.io/en/latest/index.html\n",
    "   \n",
    "**En realidad esto es el estudio de oscilaciones.**\n",
    "___\n",
    " <div>\n",
    "<img style=\"float: left; margin: 0px 0px 15px 15px;\" src=\"https://upload.wikimedia.org/wikipedia/commons/thumb/4/4c/Wide_Field_Imager_view_of_a_Milky_Way_look-alike_NGC_6744.jpg/712px-Wide_Field_Imager_view_of_a_Milky_Way_look-alike_NGC_6744.jpg\" width=\"400px\" height=\"100px\" />\n",
    " </div>"
   ]
  },
  {
   "cell_type": "code",
   "execution_count": null,
   "id": "3fbe1f55",
   "metadata": {},
   "outputs": [],
   "source": [
    "from IPython.display import YouTubeVideo\n",
    "YouTubeVideo('k5yTVHr6V14')"
   ]
  },
  {
   "cell_type": "markdown",
   "id": "1334cda9",
   "metadata": {},
   "source": [
    "Los sistemas mas sencillos a estudiar en oscilaciones son el sistema masa-resorte y el péndulo simple.\n",
    "\n",
    "<div>\n",
    "<img style=\"float: left; margin: 0px 0px 15px 15px;\" src=\"https://upload.wikimedia.org/wikipedia/commons/7/76/Pendulum.jpg\" width=\"210px\" height=\"70px\" />\n",
    "<img style=\"float: right; margin: 15px 15px 15px 15px;\" src=\"https://upload.wikimedia.org/wikipedia/ko/9/9f/Mass_spring.png\" width=\"260px\" height=\"120px\" />\n",
    "</div>\n",
    "\n",
    "\\begin{align}\n",
    "\\frac{d^2 x}{dt^2} +  \\omega_{0}^2 x &= 0, \\quad\\mbox{donde} \\quad \\omega_{0} = \\sqrt{\\frac{k}{m}}\\notag\\\\\n",
    "\\frac{d^2 \\theta}{dt^2} + \\omega_{0}^{2}\\, \\theta &= 0, \\quad\\mbox{donde}\\quad \\omega_{0}^2 = \\frac{g}{l} \n",
    "\\end{align} "
   ]
  },
  {
   "cell_type": "markdown",
   "id": "014ed3d2",
   "metadata": {},
   "source": [
    "## Solución en el tiempo\n",
    "El modelo del sistema `masa-resorte` está descrito por la siguiente **ecuación diferencial**:\n",
    "\n",
    "\\begin{equation}\n",
    "\\frac{d^2x}{dt^2} + \\frac{k}{m}x = 0,\n",
    "\\end{equation}\n",
    "\n",
    "cuya solución se escribe como \n",
    "\\begin{equation}\n",
    "x(t) = A \\cos(\\omega_{o} t) + B \\sin(\\omega_{o} t)\n",
    "\\end{equation}\n",
    "Y su primera derivada (velocidad) sería \n",
    "\\begin{equation}\n",
    "v(t) = \\frac{dx(t)}{dt} = \\omega_{0}[- A \\sin(\\omega_{0} t) + B\\cos(\\omega_{0}t)]\n",
    "\\end{equation}\n",
    "\n",
    "**¿Cómo se ven las gráficas de $x$ vs $t$ y $\\frac{dx}{dt}$ vs $t$?** "
   ]
  },
  {
   "cell_type": "code",
   "execution_count": null,
   "id": "85bee145",
   "metadata": {},
   "outputs": [],
   "source": []
  },
  {
   "cell_type": "markdown",
   "id": "f8452fbb",
   "metadata": {},
   "source": [
    "**Plano de fase**"
   ]
  },
  {
   "cell_type": "code",
   "execution_count": null,
   "id": "3113f2db",
   "metadata": {},
   "outputs": [],
   "source": []
  },
  {
   "cell_type": "markdown",
   "id": "34708880",
   "metadata": {},
   "source": [
    "Y si consideramos un conjunto de frecuencias de oscilación, entonces"
   ]
  },
  {
   "cell_type": "code",
   "execution_count": null,
   "id": "6c9a7328",
   "metadata": {},
   "outputs": [],
   "source": []
  },
  {
   "cell_type": "markdown",
   "id": "cbe36a77",
   "metadata": {},
   "source": [
    "Trayectorias del oscilador armónico simple en el espacio fase $(x,\\, \\dot{x})$."
   ]
  },
  {
   "cell_type": "markdown",
   "id": "c3295e60",
   "metadata": {},
   "source": [
    "## Gráfico interactivo\n",
    "La posición y velocidad para el sistema `masa-resorte` se escriben como: \n",
    "\\begin{align}\n",
    "x(t) &= x(0) \\cos(\\omega_{0} t) + \\frac{\\dot{x}(0)}{\\omega_{0}} \\sin(\\omega_{0} t)\\\\\n",
    "\\dot{x}(t) &= -\\omega_{0}x(0) \\sin(\\omega_{0} t) + \\dot{x}(0)\\cos(\\omega_{0}t)\n",
    "\\end{align}\n",
    "\n",
    "Importemos la clase `interact` e `interact_manual`"
   ]
  },
  {
   "cell_type": "code",
   "execution_count": null,
   "id": "b22bd579",
   "metadata": {},
   "outputs": [],
   "source": []
  },
  {
   "cell_type": "markdown",
   "id": "55ebfb3f",
   "metadata": {},
   "source": [
    "**Actividad:** Crear un gráfico interactivo para variar la posición inicial $\\dot x_0$ y la frecuencia fundamental $\\omega_0$, para la velocidad del sistema `masa-resorte`."
   ]
  },
  {
   "cell_type": "code",
   "execution_count": null,
   "id": "cad9a467",
   "metadata": {},
   "outputs": [],
   "source": []
  },
  {
   "cell_type": "markdown",
   "id": "c94963a4",
   "metadata": {},
   "source": [
    "## Animación\n",
    "importemos ahora la función `FuncAnimation` del paquete `matplotlib.animation`"
   ]
  },
  {
   "cell_type": "code",
   "execution_count": null,
   "id": "0f5903e7",
   "metadata": {},
   "outputs": [],
   "source": []
  },
  {
   "cell_type": "markdown",
   "id": "e307294e",
   "metadata": {},
   "source": [
    "**Animación del péndulo.**\n",
    "\n",
    "La solución para el sistema reducido del `péndulo` es\n",
    "\n",
    "\\begin{align}\n",
    "\\theta(t) &= \\theta(0) \\cos(\\omega_{0} t) + \\frac{\\dot{\\theta}(0)}{\\omega_{0}} \\sin(\\omega_{0} t)\\\\\n",
    "\\dot{\\theta}(t) &= -\\omega_{0}\\theta(0) \\sin(\\omega_{0} t) + \\dot{\\theta}(0)\\cos(\\omega_{0}t).\n",
    "\\end{align}\n",
    "\n",
    "Las posiciones $x$ y $y$ se obtienen de la descomposición entre la longitud y el ángulo:\n",
    "\n",
    "\\begin{align}\n",
    "x &= l \\sin(\\theta), \\quad\n",
    "y = -l \\cos(\\theta) .\n",
    "\\end{align}"
   ]
  },
  {
   "cell_type": "code",
   "execution_count": null,
   "id": "d114c689",
   "metadata": {},
   "outputs": [],
   "source": []
  },
  {
   "cell_type": "markdown",
   "id": "445ed602",
   "metadata": {},
   "source": [
    "Animación del sitema masa-resorte"
   ]
  },
  {
   "cell_type": "code",
   "execution_count": null,
   "id": "288e7fa3",
   "metadata": {},
   "outputs": [],
   "source": []
  }
 ],
 "metadata": {
  "kernelspec": {
   "display_name": "Python 3",
   "language": "python",
   "name": "python3"
  },
  "language_info": {
   "codemirror_mode": {
    "name": "ipython",
    "version": 3
   },
   "file_extension": ".py",
   "mimetype": "text/x-python",
   "name": "python",
   "nbconvert_exporter": "python",
   "pygments_lexer": "ipython3",
   "version": "3.8.8"
  }
 },
 "nbformat": 4,
 "nbformat_minor": 5
}
